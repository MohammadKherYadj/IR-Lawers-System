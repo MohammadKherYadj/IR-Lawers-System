{
 "cells": [
  {
   "cell_type": "code",
   "execution_count": 5,
   "metadata": {},
   "outputs": [
    {
     "ename": "ModuleNotFoundError",
     "evalue": "No module named 'aranlp'",
     "output_type": "error",
     "traceback": [
      "\u001b[1;31m---------------------------------------------------------------------------\u001b[0m",
      "\u001b[1;31mModuleNotFoundError\u001b[0m                       Traceback (most recent call last)",
      "Cell \u001b[1;32mIn[5], line 1\u001b[0m\n\u001b[1;32m----> 1\u001b[0m \u001b[38;5;28;01mfrom\u001b[39;00m \u001b[38;5;21;01maranlp\u001b[39;00m \u001b[38;5;28;01mimport\u001b[39;00m AraNLP\n",
      "\u001b[1;31mModuleNotFoundError\u001b[0m: No module named 'aranlp'"
     ]
    }
   ],
   "source": [
    "from aranlp import AraNLP"
   ]
  },
  {
   "cell_type": "code",
   "execution_count": null,
   "metadata": {},
   "outputs": [],
   "source": [
    "# class Preprocess_AR:\n",
    "class Preprocrss_AR :\n",
    "    @staticmethod\n",
    "    def process(text):\n",
    "        pass\n",
    "\n",
    "    @staticmethod\n",
    "    def tokenization(text):\n",
    "        pass\n",
    "    \n",
    "    @staticmethod\n",
    "    def normalization(text):\n",
    "        pass\n",
    "\n",
    "    @staticmethod\n",
    "    def remove_stopWords(text):\n",
    "        pass\n",
    "\n",
    "    @staticmethod\n",
    "    def lemmatization(text):\n",
    "        pass\n",
    "\n",
    "    @staticmethod\n",
    "    def clean_text(text):\n",
    "        pass"
   ]
  },
  {
   "cell_type": "code",
   "execution_count": null,
   "metadata": {},
   "outputs": [],
   "source": [
    "!pip install arabicnlp"
   ]
  }
 ],
 "metadata": {
  "kernelspec": {
   "display_name": "venv",
   "language": "python",
   "name": "python3"
  },
  "language_info": {
   "codemirror_mode": {
    "name": "ipython",
    "version": 3
   },
   "file_extension": ".py",
   "mimetype": "text/x-python",
   "name": "python",
   "nbconvert_exporter": "python",
   "pygments_lexer": "ipython3",
   "version": "3.12.5"
  }
 },
 "nbformat": 4,
 "nbformat_minor": 4
}
